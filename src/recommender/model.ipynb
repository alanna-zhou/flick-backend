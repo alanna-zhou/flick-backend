{
 "cells": [
  {
   "cell_type": "code",
   "execution_count": 123,
   "metadata": {},
   "outputs": [],
   "source": [
    "from ast import literal_eval\n",
    "from sklearn import preprocessing\n",
    "from sklearn.feature_extraction.text import CountVectorizer\n",
    "from sklearn.metrics.pairwise import cosine_similarity\n",
    "import numpy as np\n",
    "import pandas as pd"
   ]
  },
  {
   "cell_type": "code",
   "execution_count": 105,
   "metadata": {},
   "outputs": [],
   "source": [
    "# load dataset\n",
    "credits = pd.read_csv('data/tmdb_credits.csv', header=0)\n",
    "movies = pd.read_csv('data/tmdb_movies.csv', header=0)"
   ]
  },
  {
   "cell_type": "code",
   "execution_count": 161,
   "metadata": {},
   "outputs": [],
   "source": [
    "\n",
    "indices = pd.Series(movies.index, index=movies['title']).drop_duplicates()\n",
    "cred = credits.drop(columns=['title'])\n",
    "# print(movies)\n",
    "# take genres, spoken_languages, vectorize overview?, vectorize title, sort w popularity/rating,\n",
    "# def weighted_rating(x, m=m, C=C):\n",
    "#     v = x['vote_count']\n",
    "#     R = x['vote_average']\n",
    "#     # Calculation based on the IMDB formula\n",
    "#     return (v/(v+m) * R) + (m/(m+v) * C)\n",
    "\n",
    "\n",
    "# C = movies['vote_average'].mean()\n",
    "# print(C)\n",
    "# q_movies = movies.copy()\n",
    "# q_movies.shape\n",
    "def extract_words(row):\n",
    "    features = ['keywords', 'genres', 'director']\n",
    "    ret = ''\n",
    "    for f in features:\n",
    "        ret+=' '.join(row[f])+ \" \"\n",
    "    return ret\n",
    "\n",
    "def process_str(item, key):\n",
    "    return str.lower(item[key].replace(\" \", \"\")) \n",
    "\n",
    "def process_col(col, key):\n",
    "    return data[col].fillna('[]').apply(literal_eval).apply(lambda x: [process_str(i, key) for i in x] if x else [])\n",
    "\n",
    "data = movies.drop(columns = ['budget', 'homepage', 'original_title', 'production_companies', 'revenue', 'status', 'spoken_languages'])\n",
    "data = data.set_index('id').join(cred.set_index('movie_id'))\n",
    "\n",
    "data['genres'] = process_col('genres', 'name')\n",
    "data['keywords'] = process_col('keywords', 'name')\n",
    "data['director'] = process_col('crew', 'name')\n",
    "data['cast'] = process_col('cast', 'name')\n",
    "data['extract'] = data.apply(extract_words, axis = 1)\n"
   ]
  },
  {
   "cell_type": "code",
   "execution_count": 169,
   "metadata": {},
   "outputs": [
    {
     "name": "stdout",
     "output_type": "stream",
     "text": [
      "CountVectorizer(stop_words='english')\n"
     ]
    }
   ],
   "source": [
    "count = CountVectorizer(stop_words='english')\n",
    "count_matrix = count.fit(data['extract'])\n",
    "print(count_matrix)\n",
    "# cos_sim = cosine_similarity(count_matrix, count_matrix)"
   ]
  },
  {
   "cell_type": "code",
   "execution_count": 165,
   "metadata": {},
   "outputs": [],
   "source": [
    "def get_recommendations(title, cosine_sim=cos_sim):\n",
    "    idx = indices[title]\n",
    "    sim_scores = list(enumerate(cosine_sim[idx]))\n",
    "    sim_scores = sorted(sim_scores, key=lambda x: x[1], reverse=True)\n",
    "    sim_scores = sim_scores[1:11]\n",
    "    movie_indices = [i[0] for i in sim_scores]\n",
    "    return data['title'].iloc[movie_indices]"
   ]
  },
  {
   "cell_type": "code",
   "execution_count": 166,
   "metadata": {},
   "outputs": [
    {
     "data": {
      "text/plain": [
       "id\n",
       "36955                      True Lies\n",
       "280       Terminator 2: Judgment Day\n",
       "19995                         Avatar\n",
       "679                           Aliens\n",
       "36046         The Work and the Glory\n",
       "14834              Not Easily Broken\n",
       "361505         Me You and Five Bucks\n",
       "77332                        Urbania\n",
       "86549                         August\n",
       "18701                    Being Julia\n",
       "Name: title, dtype: object"
      ]
     },
     "execution_count": 166,
     "metadata": {},
     "output_type": "execute_result"
    }
   ],
   "source": [
    "get_recommendations('Titanic')"
   ]
  },
  {
   "cell_type": "code",
   "execution_count": null,
   "metadata": {},
   "outputs": [],
   "source": []
  }
 ],
 "metadata": {
  "kernelspec": {
   "display_name": "Python 3",
   "language": "python",
   "name": "python3"
  },
  "language_info": {
   "codemirror_mode": {
    "name": "ipython",
    "version": 3
   },
   "file_extension": ".py",
   "mimetype": "text/x-python",
   "name": "python",
   "nbconvert_exporter": "python",
   "pygments_lexer": "ipython3",
   "version": "3.7.6"
  }
 },
 "nbformat": 4,
 "nbformat_minor": 4
}
